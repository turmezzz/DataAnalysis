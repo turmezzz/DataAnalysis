{
 "cells": [
  {
   "cell_type": "code",
   "execution_count": 1,
   "metadata": {},
   "outputs": [],
   "source": [
    "%matplotlib inline\n",
    "import pandas as pd\n",
    "import numpy as np\n",
    "import matplotlib.pyplot as plt"
   ]
  },
  {
   "cell_type": "markdown",
   "metadata": {},
   "source": [
    "# Data Sample Load"
   ]
  },
  {
   "cell_type": "markdown",
   "metadata": {},
   "source": [
    "Load [titanic](https://gist.github.com/michhar/2dfd2de0d4f8727f873422c5d959fff5) dataset."
   ]
  },
  {
   "cell_type": "raw",
   "metadata": {},
   "source": [
    "VARIABLE DESCRIPTIONS:\n",
    "survival        Survival\n",
    "                (0 = No; 1 = Yes)\n",
    "pclass          Passenger Class\n",
    "                (1 = 1st; 2 = 2nd; 3 = 3rd)\n",
    "name            Name\n",
    "sex             Sex\n",
    "age             Age\n",
    "sibsp           Number of Siblings/Spouses Aboard\n",
    "parch           Number of Parents/Children Aboard\n",
    "ticket          Ticket Number\n",
    "fare            Passenger Fare\n",
    "cabin           Cabin\n",
    "embarked        Port of Embarkation\n",
    "                (C = Cherbourg; Q = Queenstown; S = Southampton)\n",
    "\n",
    "SPECIAL NOTES:\n",
    "Pclass is a proxy for socio-economic status (SES)\n",
    " 1st ~ Upper; 2nd ~ Middle; 3rd ~ Lower\n",
    "\n",
    "Age is in Years; Fractional if Age less than One (1)\n",
    " If the Age is Estimated, it is in the form xx.5"
   ]
  },
  {
   "cell_type": "code",
   "execution_count": 2,
   "metadata": {},
   "outputs": [],
   "source": [
    "# Load dataset with pandas.DataFrame()\n",
    "\n",
    "#data = pd.read_csv('titanic.csv')\n",
    "data = pd.read_csv('https://grantmlong.com/data/titanic.csv')"
   ]
  },
  {
   "cell_type": "code",
   "execution_count": 3,
   "metadata": {},
   "outputs": [
    {
     "data": {
      "text/html": [
       "<div>\n",
       "<style scoped>\n",
       "    .dataframe tbody tr th:only-of-type {\n",
       "        vertical-align: middle;\n",
       "    }\n",
       "\n",
       "    .dataframe tbody tr th {\n",
       "        vertical-align: top;\n",
       "    }\n",
       "\n",
       "    .dataframe thead th {\n",
       "        text-align: right;\n",
       "    }\n",
       "</style>\n",
       "<table border=\"1\" class=\"dataframe\">\n",
       "  <thead>\n",
       "    <tr style=\"text-align: right;\">\n",
       "      <th></th>\n",
       "      <th>PassengerId</th>\n",
       "      <th>Survived</th>\n",
       "      <th>Pclass</th>\n",
       "      <th>Name</th>\n",
       "      <th>Sex</th>\n",
       "      <th>Age</th>\n",
       "      <th>SibSp</th>\n",
       "      <th>Parch</th>\n",
       "      <th>Ticket</th>\n",
       "      <th>Fare</th>\n",
       "      <th>Cabin</th>\n",
       "      <th>Embarked</th>\n",
       "    </tr>\n",
       "  </thead>\n",
       "  <tbody>\n",
       "    <tr>\n",
       "      <th>0</th>\n",
       "      <td>1</td>\n",
       "      <td>0</td>\n",
       "      <td>3</td>\n",
       "      <td>Braund, Mr. Owen Harris</td>\n",
       "      <td>male</td>\n",
       "      <td>22.0</td>\n",
       "      <td>1</td>\n",
       "      <td>0</td>\n",
       "      <td>A/5 21171</td>\n",
       "      <td>7.2500</td>\n",
       "      <td>NaN</td>\n",
       "      <td>S</td>\n",
       "    </tr>\n",
       "    <tr>\n",
       "      <th>1</th>\n",
       "      <td>2</td>\n",
       "      <td>1</td>\n",
       "      <td>1</td>\n",
       "      <td>Cumings, Mrs. John Bradley (Florence Briggs Th...</td>\n",
       "      <td>female</td>\n",
       "      <td>38.0</td>\n",
       "      <td>1</td>\n",
       "      <td>0</td>\n",
       "      <td>PC 17599</td>\n",
       "      <td>71.2833</td>\n",
       "      <td>C85</td>\n",
       "      <td>C</td>\n",
       "    </tr>\n",
       "    <tr>\n",
       "      <th>2</th>\n",
       "      <td>3</td>\n",
       "      <td>1</td>\n",
       "      <td>3</td>\n",
       "      <td>Heikkinen, Miss. Laina</td>\n",
       "      <td>female</td>\n",
       "      <td>26.0</td>\n",
       "      <td>0</td>\n",
       "      <td>0</td>\n",
       "      <td>STON/O2. 3101282</td>\n",
       "      <td>7.9250</td>\n",
       "      <td>NaN</td>\n",
       "      <td>S</td>\n",
       "    </tr>\n",
       "    <tr>\n",
       "      <th>3</th>\n",
       "      <td>4</td>\n",
       "      <td>1</td>\n",
       "      <td>1</td>\n",
       "      <td>Futrelle, Mrs. Jacques Heath (Lily May Peel)</td>\n",
       "      <td>female</td>\n",
       "      <td>35.0</td>\n",
       "      <td>1</td>\n",
       "      <td>0</td>\n",
       "      <td>113803</td>\n",
       "      <td>53.1000</td>\n",
       "      <td>C123</td>\n",
       "      <td>S</td>\n",
       "    </tr>\n",
       "    <tr>\n",
       "      <th>4</th>\n",
       "      <td>5</td>\n",
       "      <td>0</td>\n",
       "      <td>3</td>\n",
       "      <td>Allen, Mr. William Henry</td>\n",
       "      <td>male</td>\n",
       "      <td>35.0</td>\n",
       "      <td>0</td>\n",
       "      <td>0</td>\n",
       "      <td>373450</td>\n",
       "      <td>8.0500</td>\n",
       "      <td>NaN</td>\n",
       "      <td>S</td>\n",
       "    </tr>\n",
       "  </tbody>\n",
       "</table>\n",
       "</div>"
      ],
      "text/plain": [
       "   PassengerId  Survived  Pclass  \\\n",
       "0            1         0       3   \n",
       "1            2         1       1   \n",
       "2            3         1       3   \n",
       "3            4         1       1   \n",
       "4            5         0       3   \n",
       "\n",
       "                                                Name     Sex   Age  SibSp  \\\n",
       "0                            Braund, Mr. Owen Harris    male  22.0      1   \n",
       "1  Cumings, Mrs. John Bradley (Florence Briggs Th...  female  38.0      1   \n",
       "2                             Heikkinen, Miss. Laina  female  26.0      0   \n",
       "3       Futrelle, Mrs. Jacques Heath (Lily May Peel)  female  35.0      1   \n",
       "4                           Allen, Mr. William Henry    male  35.0      0   \n",
       "\n",
       "   Parch            Ticket     Fare Cabin Embarked  \n",
       "0      0         A/5 21171   7.2500   NaN        S  \n",
       "1      0          PC 17599  71.2833   C85        C  \n",
       "2      0  STON/O2. 3101282   7.9250   NaN        S  \n",
       "3      0            113803  53.1000  C123        S  \n",
       "4      0            373450   8.0500   NaN        S  "
      ]
     },
     "execution_count": 3,
     "metadata": {},
     "output_type": "execute_result"
    }
   ],
   "source": [
    "data.head()"
   ]
  },
  {
   "cell_type": "markdown",
   "metadata": {},
   "source": [
    "# Data Preprocessing"
   ]
  },
  {
   "cell_type": "code",
   "execution_count": 4,
   "metadata": {},
   "outputs": [],
   "source": [
    "def data_preprocessing(data_input):\n",
    "    \n",
    "    # Select bad columns and remove them\n",
    "    cols_2_drop = ['PassengerId', 'Ticket', 'Cabin', 'Name']\n",
    "    data_input = data_input.drop(cols_2_drop, axis=1)\n",
    "    \n",
    "    # Replace missing values (NaN) with -999 for 'Age' feature\n",
    "    data_input.loc[:, 'Age'] = data_input.Age.fillna(-999)\n",
    "    \n",
    "    # Encode 'Sex' values\n",
    "    data_input.loc[:, 'Sex'] = data_input.Sex.replace({'male': 0, 'female': 1})\n",
    "    \n",
    "    # Remove all object with missing values\n",
    "    data_input = data_input.dropna()\n",
    "    \n",
    "    # Encode categorical features using OneHotEncoding\n",
    "    data_input = pd.get_dummies(data_input, columns=['Embarked'], prefix_sep='=')\n",
    "    \n",
    "    return data_input"
   ]
  },
  {
   "cell_type": "code",
   "execution_count": 5,
   "metadata": {},
   "outputs": [],
   "source": [
    "data_preproc = data_preprocessing(data)"
   ]
  },
  {
   "cell_type": "code",
   "execution_count": 6,
   "metadata": {},
   "outputs": [
    {
     "data": {
      "text/html": [
       "<div>\n",
       "<style scoped>\n",
       "    .dataframe tbody tr th:only-of-type {\n",
       "        vertical-align: middle;\n",
       "    }\n",
       "\n",
       "    .dataframe tbody tr th {\n",
       "        vertical-align: top;\n",
       "    }\n",
       "\n",
       "    .dataframe thead th {\n",
       "        text-align: right;\n",
       "    }\n",
       "</style>\n",
       "<table border=\"1\" class=\"dataframe\">\n",
       "  <thead>\n",
       "    <tr style=\"text-align: right;\">\n",
       "      <th></th>\n",
       "      <th>Survived</th>\n",
       "      <th>Pclass</th>\n",
       "      <th>Sex</th>\n",
       "      <th>Age</th>\n",
       "      <th>SibSp</th>\n",
       "      <th>Parch</th>\n",
       "      <th>Fare</th>\n",
       "      <th>Embarked=C</th>\n",
       "      <th>Embarked=Q</th>\n",
       "      <th>Embarked=S</th>\n",
       "    </tr>\n",
       "  </thead>\n",
       "  <tbody>\n",
       "    <tr>\n",
       "      <th>0</th>\n",
       "      <td>0</td>\n",
       "      <td>3</td>\n",
       "      <td>0</td>\n",
       "      <td>22.0</td>\n",
       "      <td>1</td>\n",
       "      <td>0</td>\n",
       "      <td>7.2500</td>\n",
       "      <td>0</td>\n",
       "      <td>0</td>\n",
       "      <td>1</td>\n",
       "    </tr>\n",
       "    <tr>\n",
       "      <th>1</th>\n",
       "      <td>1</td>\n",
       "      <td>1</td>\n",
       "      <td>1</td>\n",
       "      <td>38.0</td>\n",
       "      <td>1</td>\n",
       "      <td>0</td>\n",
       "      <td>71.2833</td>\n",
       "      <td>1</td>\n",
       "      <td>0</td>\n",
       "      <td>0</td>\n",
       "    </tr>\n",
       "    <tr>\n",
       "      <th>2</th>\n",
       "      <td>1</td>\n",
       "      <td>3</td>\n",
       "      <td>1</td>\n",
       "      <td>26.0</td>\n",
       "      <td>0</td>\n",
       "      <td>0</td>\n",
       "      <td>7.9250</td>\n",
       "      <td>0</td>\n",
       "      <td>0</td>\n",
       "      <td>1</td>\n",
       "    </tr>\n",
       "    <tr>\n",
       "      <th>3</th>\n",
       "      <td>1</td>\n",
       "      <td>1</td>\n",
       "      <td>1</td>\n",
       "      <td>35.0</td>\n",
       "      <td>1</td>\n",
       "      <td>0</td>\n",
       "      <td>53.1000</td>\n",
       "      <td>0</td>\n",
       "      <td>0</td>\n",
       "      <td>1</td>\n",
       "    </tr>\n",
       "    <tr>\n",
       "      <th>4</th>\n",
       "      <td>0</td>\n",
       "      <td>3</td>\n",
       "      <td>0</td>\n",
       "      <td>35.0</td>\n",
       "      <td>0</td>\n",
       "      <td>0</td>\n",
       "      <td>8.0500</td>\n",
       "      <td>0</td>\n",
       "      <td>0</td>\n",
       "      <td>1</td>\n",
       "    </tr>\n",
       "  </tbody>\n",
       "</table>\n",
       "</div>"
      ],
      "text/plain": [
       "   Survived  Pclass  Sex   Age  SibSp  Parch     Fare  Embarked=C  Embarked=Q  \\\n",
       "0         0       3    0  22.0      1      0   7.2500           0           0   \n",
       "1         1       1    1  38.0      1      0  71.2833           1           0   \n",
       "2         1       3    1  26.0      0      0   7.9250           0           0   \n",
       "3         1       1    1  35.0      1      0  53.1000           0           0   \n",
       "4         0       3    0  35.0      0      0   8.0500           0           0   \n",
       "\n",
       "   Embarked=S  \n",
       "0           1  \n",
       "1           0  \n",
       "2           1  \n",
       "3           1  \n",
       "4           1  "
      ]
     },
     "execution_count": 6,
     "metadata": {},
     "output_type": "execute_result"
    }
   ],
   "source": [
    "data_preproc.head()"
   ]
  },
  {
   "cell_type": "markdown",
   "metadata": {},
   "source": [
    "# Data Study\n",
    "\n",
    "Let's loot at the data to get better understanding of its properties."
   ]
  },
  {
   "cell_type": "code",
   "execution_count": 7,
   "metadata": {},
   "outputs": [
    {
     "data": {
      "text/plain": [
       "Index(['Pclass', 'Sex', 'Age', 'SibSp', 'Parch', 'Fare', 'Embarked=C',\n",
       "       'Embarked=Q', 'Embarked=S'],\n",
       "      dtype='object')"
      ]
     },
     "execution_count": 7,
     "metadata": {},
     "output_type": "execute_result"
    }
   ],
   "source": [
    "# Set up label column\n",
    "y_column = \"Survived\"\n",
    "\n",
    "# Select X columns\n",
    "X_columns = data_preproc.columns[data_preproc.columns != y_column]\n",
    "\n",
    "X_columns"
   ]
  },
  {
   "cell_type": "code",
   "execution_count": 8,
   "metadata": {},
   "outputs": [
    {
     "data": {
      "image/png": "[encoded data removed]",
      "text/plain": [
       "<Figure size 1080x864 with 9 Axes>"
      ]
     },
     "metadata": {
      "needs_background": "light"
     },
     "output_type": "display_data"
    }
   ],
   "source": [
    "# Define size of the figure\n",
    "plt.figure(figsize=(15, 12))\n",
    "\n",
    "# For each column ...\n",
    "for i_col in range(len(X_columns)):\n",
    "    \n",
    "    # Create subplot for each column\n",
    "    plt.subplot(3, 3, i_col+1)\n",
    "    \n",
    "    # Get column and label values\n",
    "    x_col = data_preproc[X_columns[i_col]].values\n",
    "    y_col = data_preproc[y_column].values\n",
    "    \n",
    "    # Plot histograms\n",
    "    bins = np.linspace(0, x_col.max(), 21)\n",
    "    plt.hist(x_col[y_col == 0], bins=bins, color='r', alpha=0.5, label='0')\n",
    "    plt.hist(x_col[y_col == 1], bins=bins, color='b', alpha=0.5, label='1')\n",
    "    \n",
    "    # Labels and legend\n",
    "    plt.xlabel(X_columns[i_col])\n",
    "    plt.ylabel('Counts')\n",
    "    plt.legend(loc='best')\n",
    "    \n",
    "plt.show()"
   ]
  },
  {
   "cell_type": "markdown",
   "metadata": {},
   "source": [
    "# Create Matrix X"
   ]
  },
  {
   "cell_type": "markdown",
   "metadata": {},
   "source": [
    "Create a maxtrix with objects $X$ and vector of the object labels $y$.\n",
    "<table><tr>\n",
    "<td> <img src=\"img/known_all_object.png\" width=\"250\"> </td>\n",
    "<td> <img src=\"img/known_all_feature.png\" width=\"250\"> </td>\n",
    "</tr></table>"
   ]
  },
  {
   "cell_type": "code",
   "execution_count": 9,
   "metadata": {},
   "outputs": [],
   "source": [
    "X = data_preproc[X_columns].values\n",
    "y = data_preproc[y_column].values"
   ]
  },
  {
   "cell_type": "markdown",
   "metadata": {},
   "source": [
    "## Data Split\n",
    "\n",
    "We split data into **train** and **test** samples. Train sample is used to train the DT. Test sample is used to measure quality of the classifier. \n",
    "\n",
    "<img src=\"img/train_test_object.png\" width=\"250\">\n",
    "\n",
    "To do this we use `train_test_split` function from the scikit-learn library."
   ]
  },
  {
   "cell_type": "code",
   "execution_count": 10,
   "metadata": {},
   "outputs": [],
   "source": [
    "# import train_test_split function to split the sample\n",
    "from sklearn.model_selection import train_test_split\n",
    "\n",
    "X_train, X_test, y_train, y_test = train_test_split(X, y, \n",
    "                                                    test_size=0.5,    # 20% for test, 80% for train\n",
    "                                                    random_state=123) # shuffle objects before split"
   ]
  },
  {
   "cell_type": "markdown",
   "metadata": {},
   "source": [
    "# Decision Tree Classifier"
   ]
  },
  {
   "cell_type": "markdown",
   "metadata": {},
   "source": [
    "Consider Decision Tree Classifier algorithm. \n",
    "\n",
    "<table><tr>\n",
    "<td> <img src=\"img/dt2.png\" width=\"600\"> </td>\n",
    "<td> <img src=\"img/dt1.png\" width=\"400\"> </td>\n",
    "</tr></table>\n",
    "\n",
    "Decision tree building is started from the root node. The selection rule is estimated to maximize **information gain** for the node plit:\n",
    "\n",
    "$$\n",
    "\\Delta I_{node} = I_{node} - (I_{left} \\frac{N_{left}}{N_{node}} + I_{right} \\frac{N_{right}}{N_{node}})\n",
    "$$\n",
    "\n",
    "where $I_{node}$ is impurity of a node. Popular impurity functions are:\n",
    "\n",
    "**Gini**\n",
    "\n",
    "$$\n",
    "I_{node} = \\sum_{i}^{C}p_{i}(1 - p_{i})\n",
    "$$\n",
    "\n",
    "**Entropy**\n",
    "\n",
    "$$\n",
    "I_{node} = -\\sum_{i}^{C}p_{i}log(p_{i})\n",
    "$$\n",
    "\n",
    "**Classification error**\n",
    "\n",
    "$$\n",
    "I_{node} = 1 - \\max_{i}p_{i}\n",
    "$$\n",
    "\n",
    "where $p_{i}$ is fraction of objects of class $i$ in the node:\n",
    "\n",
    "$$\n",
    "p_{i} = \\frac{N_{i}}{\\sum_{i}^{C}N_{i}}\n",
    "$$\n",
    "\n",
    "Let's look at the example:\n",
    "\n",
    "<img src=\"img/split.png\" width=\"800\">"
   ]
  },
  {
   "cell_type": "code",
   "execution_count": 11,
   "metadata": {},
   "outputs": [],
   "source": [
    "class Node(object):\n",
    "    \n",
    "    def __init__(self):\n",
    "        \"\"\"\n",
    "        Class for a decision tree node.\n",
    "        \"\"\"\n",
    "        \n",
    "        self.right = None\n",
    "        self.left = None\n",
    "        \n",
    "        self.threshold = None\n",
    "        self.column = None\n",
    "        \n",
    "        self.depth = None\n",
    "        self.probas = None\n",
    "        \n",
    "        self.is_terminal = False"
   ]
  },
  {
   "cell_type": "code",
   "execution_count": 12,
   "metadata": {},
   "outputs": [],
   "source": [
    "class DecisionTreeClassifier(object):\n",
    "    \n",
    "    def __init__(self, max_depth=3, min_samples_leaf=1, min_samples_split=2, impurity='gini'):\n",
    "        \"\"\"\n",
    "        Class for a Decision Tree Classifier.\n",
    "        \n",
    "        Parameters\n",
    "        ----------\n",
    "        max_depth : int\n",
    "            Max depth of a decision tree.\n",
    "        min_samples_leaf : int\n",
    "            Minimal number of samples (objects) in a leaf (terminal node).\n",
    "        min_samples_split : int\n",
    "            Minimal number of samples (objects) in a node to make a split.\n",
    "        impurity : str\n",
    "            Impurity function used for the decision tree building.\n",
    "        \"\"\"\n",
    "        \n",
    "        # Make hyperparameters visible inside the class\n",
    "        self.max_depth = max_depth\n",
    "        self.min_samples_leaf = min_samples_leaf\n",
    "        self.min_samples_split = min_samples_split\n",
    "        self.impurity = impurity\n",
    "        \n",
    "        # Object for the decision tree\n",
    "        self.Tree = None\n",
    "        \n",
    "        # Helping objects\n",
    "        self.classes = []\n",
    "        \n",
    "    def get_params(self, deep=True):\n",
    "        \"\"\"\n",
    "        Returns class parameters.\n",
    "\n",
    "        Parameters\n",
    "        ----------\n",
    "        deep : boolean\n",
    "            If True, will return the parameters for this estimator and contained subobjects that are estimators.\n",
    "\n",
    "        Returns\n",
    "        -------\n",
    "        params : dict\n",
    "            Parameters of the class.\n",
    "        \"\"\"\n",
    "\n",
    "        params = {'max_depth': self.max_depth,\n",
    "                  'min_samples_leaf': self.min_samples_leaf,\n",
    "                  'min_samples_split': self.min_samples_split,\n",
    "                  'impurity': self.impurity}\n",
    "\n",
    "        return params\n",
    "    \n",
    "    \n",
    "    def set_params(self, **params):\n",
    "        \"\"\"\n",
    "        Set class parameters.\n",
    "\n",
    "        Parameters\n",
    "        ----------\n",
    "        params : dict\n",
    "            Dictionary of the class parameters.\n",
    "        \"\"\"\n",
    "\n",
    "        for key, value in params.items():\n",
    "            setattr(self, key, value)\n",
    "\n",
    "        return self\n",
    "\n",
    "        \n",
    "    \n",
    "    def node_probabilities(self, y):\n",
    "        \"\"\"\n",
    "        Estimate probabilities of classes in data.\n",
    "        \n",
    "        Parameters\n",
    "        ----------\n",
    "        y : numpy.array, shape = (n_objects)\n",
    "            1D array with the object labels. \n",
    "            For the classification labels are integers in {0, 1, 2, ...}.\n",
    "            \n",
    "        Returns\n",
    "        -------\n",
    "        probas : numpy.array, shape = (n_objects, n_classes)\n",
    "            2D array with predicted probabilities of each class. \n",
    "            Example:\n",
    "                y_predicted_proba = [[0.1, 0.9],\n",
    "                                     [0.8, 0.2], \n",
    "                                     [0.0, 1.0], \n",
    "                                     ...]\n",
    "        \"\"\"\n",
    "        \n",
    "        # To store probas\n",
    "        probas = []\n",
    "        \n",
    "        # For each class in data ...\n",
    "        for one_class in self.classes:\n",
    "            \n",
    "            # Estimate probability of the class\n",
    "            class_proba = 1. * (y == one_class).sum() / len(y)\n",
    "            # class_proba = 0.8 (example)\n",
    "            \n",
    "            # Store the probability\n",
    "            probas.append(class_proba)\n",
    "        \n",
    "        return probas\n",
    "    \n",
    "    \n",
    "    def gini_calculation(self, probas):\n",
    "        \"\"\"\n",
    "        Calculate gini value.\n",
    "        \n",
    "        Parameters\n",
    "        ----------\n",
    "        probas : numpy.array, shape = (n_objects, n_classes)\n",
    "            2D array with predicted probabilities of each class. \n",
    "            Example:\n",
    "                probas = [0.1, 0.9]\n",
    "            \n",
    "        Returns\n",
    "        -------\n",
    "        gini : float\n",
    "            Gini value.\n",
    "        \"\"\"\n",
    "        \n",
    "        gini = 1\n",
    "        for p in probas:\n",
    "            gini -= p**2\n",
    "        \n",
    "        return gini\n",
    "    \n",
    "    \n",
    "    def impurity_calculation(self, y):\n",
    "        \"\"\"\n",
    "        Calculate data impurity.\n",
    "        \n",
    "        Parameters\n",
    "        ----------\n",
    "        y : numpy.array, shape = (n_objects)\n",
    "            1D array with the object labels. \n",
    "            For the classification labels are integers in {0, 1, 2, ...}.\n",
    "            \n",
    "        Returns\n",
    "        -------\n",
    "        impurity : float\n",
    "            Impuroty of the data.\n",
    "        \"\"\"\n",
    "                \n",
    "        # Estimate probabilities for each class\n",
    "        probas = self.node_probabilities(y)\n",
    "        # probas = [0.90, 0.10] (example)\n",
    "        \n",
    "        # Calculate impurity of the data\n",
    "        if self.impurity == 'gini':\n",
    "            impurity = self.gini_calculation(probas)\n",
    "            # impurity = 0.6 (example)\n",
    "        \n",
    "        return impurity\n",
    "        \n",
    "    \n",
    "    def best_split(self, X, y):\n",
    "        \"\"\"\n",
    "        Make the best split of data in a decision tree node.\n",
    "        \n",
    "        Parameters\n",
    "        ----------\n",
    "        X : numpy.array, shape = (n_objects, n_features)\n",
    "            Matrix of objects that are described by their input features.\n",
    "        y : numpy.array, shape = (n_objects)\n",
    "            1D array with the object labels. \n",
    "            For the classification labels are integers in {0, 1, 2, ...}.\n",
    "            \n",
    "        Returns\n",
    "        -------\n",
    "        best_split_column : int\n",
    "            Index of the best split column\n",
    "        best_threshold : float\n",
    "            The best split condition.\n",
    "        X_left : numpy.array, shape = (n_objects, n_features)\n",
    "            Matrix of objects in the left child that are described by their input features.\n",
    "        y_left : numpy.array, shape = (n_objects)\n",
    "            1D array with the object labels in the left child. \n",
    "            For the classification labels are integers in {0, 1, 2, ...}.\n",
    "        X_right : numpy.array, shape = (n_objects, n_features)\n",
    "            Matrix of objects in the right child that are described by their input features.\n",
    "        y_right : numpy.array, shape = (n_objects)\n",
    "            1D array with labels of the objects in the right child. \n",
    "            For the classification labels are integers in {0, 1, 2, ...}.\n",
    "        \"\"\"\n",
    "        \n",
    "        # To store best split parameters\n",
    "        best_split_column = None\n",
    "        best_threshold = None\n",
    "        best_information_gain = -999\n",
    "        \n",
    "        # Data impurity before the split\n",
    "        impurity = self.impurity_calculation(y)\n",
    "        # impurity = 0.8 (example)\n",
    "        \n",
    "        # For each column in X ...\n",
    "        for split_column in range(X.shape[1]):\n",
    "            \n",
    "            # Select values of the column\n",
    "            x_col = X[:, split_column]\n",
    "            # x_col = [2.6, 1.3, 0.5, ...] (example)\n",
    "            \n",
    "            # For each value in the column ...\n",
    "            for i_x in range(0, len(x_col)):\n",
    "                \n",
    "                # Take the value as a threshold for a split\n",
    "                threshold = x_col[i_x]\n",
    "                # threshold = 1.3 (example)\n",
    "                \n",
    "                # Make the split into right and left childs\n",
    "                y_right = y[x_col > threshold]\n",
    "                y_left = y[x_col <= threshold]\n",
    "                # y_left = [0, 1, 1, 0, 1] (example)\n",
    "                \n",
    "                if len(y_right) == 0 or len(y_left) == 0:\n",
    "                    continue\n",
    "                \n",
    "                # Calculate impurity for each child\n",
    "                impurity_left = self.impurity_calculation(y_left)\n",
    "                impurity_right = self.impurity_calculation(y_right)\n",
    "                # impurity_right = 0.6 (example)\n",
    "                \n",
    "                # Calculate information gain of the split\n",
    "                information_gain = impurity\n",
    "                information_gain -= impurity_left * len(y_left) / len(y)\n",
    "                information_gain -= impurity_right * len(y_right) / len(y)\n",
    "                # information_gain = 0.2 (example)\n",
    "                \n",
    "                # Is this information_gain the best?\n",
    "                if information_gain > best_information_gain:\n",
    "                    best_split_column = split_column\n",
    "                    best_threshold = threshold\n",
    "                    best_information_gain = information_gain\n",
    "                    \n",
    "        # If no split available\n",
    "        if best_information_gain == -999:\n",
    "            return None, None, None, None, None, None\n",
    "        \n",
    "        # Take the best split parameters and make this split\n",
    "        x_col = X[:, best_split_column]\n",
    "        X_left = X[x_col <= best_threshold, :]\n",
    "        y_left = y[x_col <= best_threshold]\n",
    "        X_right = X[x_col > best_threshold, :]\n",
    "        y_right = y[x_col > best_threshold]\n",
    "        \n",
    "        return best_split_column, best_threshold, X_left, y_left, X_right, y_right\n",
    "                    \n",
    "                \n",
    "    \n",
    "    def decision_tree(self, node, X, y):\n",
    "        \"\"\"\n",
    "        Functions builds a decision tree.\n",
    "        \n",
    "        Parameters\n",
    "        ----------\n",
    "        node : Node() object\n",
    "            Current node of the decision tree.\n",
    "        X : numpy.array, shape = (n_objects, n_features)\n",
    "            Matrix of objects that are described by their input features.\n",
    "        y : numpy.array, shape = (n_objects)\n",
    "            1D array with the object labels. \n",
    "            For the classification labels are integers in {0, 1, 2, ...}.\n",
    "        \"\"\"\n",
    "        \n",
    "        # Check termination conditions\n",
    "        if node.depth >= self.max_depth:      # max_depth check\n",
    "            node.is_terminal = True\n",
    "            return\n",
    "        if len(X) < self.min_samples_split:   # min_samples_split check\n",
    "            node.is_terminal = True\n",
    "            return\n",
    "        if len(np.unique(y)) == 1:\n",
    "            node.is_terminal = True\n",
    "            return\n",
    "        \n",
    "        # Make best split\n",
    "        split_column, threshold, X_left, y_left, X_right, y_right = self.best_split(X, y) # Make a split\n",
    "        # split_column = 2 (exmaple) column index of the split\n",
    "        # threshold = 2.74 (example) split_column > threshold\n",
    "        \n",
    "        # Check additional termination conditions\n",
    "        if split_column is None:\n",
    "            node.is_terminal = True\n",
    "            return\n",
    "        if len(X_left) < self.min_samples_leaf or len(X_right) < self.min_samples_leaf:  # min_samples_leaf check\n",
    "            node.is_terminal = True\n",
    "            return\n",
    "        \n",
    "        \n",
    "        # Add split parameters into the current node\n",
    "        node.column = split_column\n",
    "        node.threshold = threshold\n",
    "        \n",
    "        # Create a left child of the current node\n",
    "        node.left = Node()\n",
    "        node.left.depth = node.depth + 1\n",
    "        node.left.probas = self.node_probabilities(y_left)\n",
    "        \n",
    "        # Create a right child of the current node\n",
    "        node.right = Node()\n",
    "        node.right.depth = node.depth + 1\n",
    "        node.right.probas = self.node_probabilities(y_right)\n",
    "        \n",
    "        # Make splits for the left and right nodes\n",
    "        self.decision_tree(node.right, X_right, y_right)\n",
    "        self.decision_tree(node.left, X_left, y_left)\n",
    "        \n",
    "    \n",
    "    def fit(self, X, y):\n",
    "        \"\"\"\n",
    "        Fit the Decision Tree Classifier.\n",
    "        \n",
    "        Parameters\n",
    "        ----------\n",
    "        X : numpy.array, shape = (n_objects, n_features)\n",
    "            Matrix of objects that are described by their input features.\n",
    "        y : numpy.array, shape = (n_objects)\n",
    "            1D array with the object labels. \n",
    "            For the classification labels are integers in {0, 1, 2, ...}.\n",
    "        \"\"\"\n",
    "        \n",
    "        # Get unique class labels\n",
    "        self.classes = np.unique(y)\n",
    "        # self.classes = [0, 1] (example)\n",
    "        \n",
    "        # Create a root node of a decision tree\n",
    "        self.Tree = Node()                             # Create an empty node\n",
    "        self.Tree.depth = 1                            # the node depth\n",
    "        self.Tree.probas = self.node_probabilities(y)  # init class probabilities\n",
    "        \n",
    "        # Build the decision tree\n",
    "        self.decision_tree(self.Tree, X, y)\n",
    "        \n",
    "    \n",
    "    def one_prediction(self, node, x):\n",
    "        \"\"\"\n",
    "        Functions builds a decision tree.\n",
    "        \n",
    "        Parameters\n",
    "        ----------\n",
    "        node : Node() object\n",
    "            Current node of the decision tree.\n",
    "        x : numpy.array, shape = (n_features,)\n",
    "            Array of feature values of one object.\n",
    "        \"\"\"\n",
    "        \n",
    "        # Termination condition\n",
    "        if node.is_terminal == True:     # If it is a leaf (terminal node, no childs)\n",
    "            return node.probas                           # Return probas of the terminal node\n",
    "            # node.probas = [0.9, 0.1] (example)\n",
    "        \n",
    "        # Run to the current node's childs\n",
    "        # Check split condition. If yes, go to the right child\n",
    "        if x[node.column] > node.threshold:\n",
    "            # Right child\n",
    "            probas = self.one_prediction(node.right, x)\n",
    "            # probas = [0.9, 0.1] (example)\n",
    "        else: \n",
    "            # Left child\n",
    "            probas = self.one_prediction(node.left, x)\n",
    "            # probas = [0.9, 0.1] (example)\n",
    "            \n",
    "        return probas\n",
    "    \n",
    "    \n",
    "    def predict_proba(self, X):\n",
    "        \"\"\"\n",
    "        Predict class probabilities for unknown objects.\n",
    "        \n",
    "        Parameters\n",
    "        ----------\n",
    "        X : numpy.array, shape = (n_objects, n_features)\n",
    "            Matrix of objects that are described by their input features.\n",
    "            \n",
    "        Returns\n",
    "        -------\n",
    "        y_predicted_proba : numpy.array, shape = (n_objects, n_classes)\n",
    "            2D array with predicted probabilities of each class. \n",
    "            Example:\n",
    "                y_predicted_proba = [[0.1, 0.9],\n",
    "                                     [0.8, 0.2], \n",
    "                                     [0.0, 1.0], \n",
    "                                     ...]\n",
    "        \"\"\"\n",
    "        \n",
    "        # Create an empty list for predicted probabilities\n",
    "        y_predicted_proba = []\n",
    "        \n",
    "        # For each object in X make a prediction\n",
    "        for one_x in X:\n",
    "            \n",
    "            # Make the prediction for one object \n",
    "            one_proba = self.one_prediction(self.Tree, one_x)\n",
    "            # one_proba = [0.9, 0.1] (example)\n",
    "            \n",
    "            # Store the predictions\n",
    "            y_predicted_proba.append(one_proba)\n",
    "        \n",
    "        return np.array(y_predicted_proba)\n",
    "    \n",
    "    \n",
    "    def predict(self, X):\n",
    "        \"\"\"\n",
    "        This methods performs labels prediction for new objects.\n",
    "        \n",
    "        Parameters\n",
    "        ----------\n",
    "        X : numpy.array, shape = (n_objects, n_features)\n",
    "            Matrix of objects that are described by their input features.\n",
    "            \n",
    "        Returns\n",
    "        -------\n",
    "        y_predicted : numpy.array, shape = (n_objects)\n",
    "            1D array with predicted labels. \n",
    "            For the classification labels are integers in {0, 1, 2, ...}.\n",
    "        \"\"\"\n",
    "        \n",
    "        # Predict probabilities\n",
    "        y_predicted_proba = self.predict_proba(X)\n",
    "        # y_predicted_proba = [[0.90, 0.10], \n",
    "        #                      [0.23, 0.77], \n",
    "        #                       ...]  (example)\n",
    "        \n",
    "        # Find class labels with the highest probability\n",
    "        y_predicted = y_predicted_proba.argmax(axis=1)\n",
    "        # y_predicted = [0, 1] (example)\n",
    "        \n",
    "        return y_predicted"
   ]
  },
  {
   "cell_type": "code",
   "execution_count": 13,
   "metadata": {},
   "outputs": [
    {
     "name": "stdout",
     "output_type": "stream",
     "text": [
      "CPU times: user 2 µs, sys: 0 ns, total: 2 µs\n",
      "Wall time: 5.96 µs\n"
     ]
    }
   ],
   "source": [
    "%time\n",
    "clf = DecisionTreeClassifier(max_depth=30, min_samples_leaf=1, min_samples_split=2, impurity='gini')\n",
    "clf.fit(X_train, y_train)\n",
    "y_test_predict = clf.predict(X_test)"
   ]
  },
  {
   "cell_type": "code",
   "execution_count": 14,
   "metadata": {},
   "outputs": [
    {
     "data": {
      "text/plain": [
       "array([0, 0, 0, 0, 0, 0, 0, 1, 0, 1])"
      ]
     },
     "execution_count": 14,
     "metadata": {},
     "output_type": "execute_result"
    }
   ],
   "source": [
    "y_test_predict[:10]"
   ]
  },
  {
   "cell_type": "code",
   "execution_count": 15,
   "metadata": {},
   "outputs": [
    {
     "data": {
      "text/plain": [
       "array([0, 0, 1, 0, 0, 0, 0, 0, 0, 0])"
      ]
     },
     "execution_count": 15,
     "metadata": {},
     "output_type": "execute_result"
    }
   ],
   "source": [
    "y_test[:10]"
   ]
  },
  {
   "cell_type": "markdown",
   "metadata": {},
   "source": [
    "# Measure Quality of the Classification\n",
    "\n",
    "Let's measure the quality using **accuracy score**:\n",
    "\n",
    "$$\n",
    "\\text{Accuracy }(y\\_true, y\\_predict) = \\frac{1}{N} \\sum_{i=1}^{N} I(y\\_predict_{i} == y\\_true_{i})\n",
    "$$\n",
    "\n",
    "For the accuracy calculation we use function **accuracy_score** from the scikit-learn library."
   ]
  },
  {
   "cell_type": "code",
   "execution_count": 16,
   "metadata": {},
   "outputs": [
    {
     "name": "stdout",
     "output_type": "stream",
     "text": [
      "Test accuracy of DT classifier:  0.7325842696629213\n"
     ]
    }
   ],
   "source": [
    "# Import accuracy_score function\n",
    "from sklearn.metrics import accuracy_score\n",
    "\n",
    "# Calculate accuracy for the test sample\n",
    "accuracy_test = accuracy_score(y_test, y_test_predict)\n",
    "\n",
    "print(\"Test accuracy of DT classifier: \", accuracy_test)"
   ]
  },
  {
   "cell_type": "markdown",
   "metadata": {},
   "source": [
    "# Hyperparameters optimization\n",
    "\n",
    "Let's find optimal hyperparameters of the Decision Tree Classifier. There several methods how to do this:\n",
    "\n",
    "<img src=\"img/optimization.png\" width=\"800\">\n",
    "\n",
    "We will use Grid Search method implemented in `sklearn.model_selection.GridSearchCV` class in `scikit-learn` library."
   ]
  },
  {
   "cell_type": "code",
   "execution_count": 17,
   "metadata": {},
   "outputs": [
    {
     "data": {
      "text/plain": [
       "GridSearchCV(cv=3, error_score='raise-deprecating',\n",
       "       estimator=<__main__.DecisionTreeClassifier object at 0x1a20501550>,\n",
       "       fit_params=None, iid='warn', n_jobs=None,\n",
       "       param_grid={'max_depth': [1, 3, 5, 7, 9], 'min_samples_leaf': [1, 5, 10]},\n",
       "       pre_dispatch='2*n_jobs', refit=True, return_train_score='warn',\n",
       "       scoring='accuracy', verbose=0)"
      ]
     },
     "execution_count": 17,
     "metadata": {},
     "output_type": "execute_result"
    }
   ],
   "source": [
    "# Import GridSearchCV class\n",
    "from sklearn.model_selection import GridSearchCV\n",
    "\n",
    "# Define Decision Tree classifier with default parameters\n",
    "clf = DecisionTreeClassifier(max_depth=30, \n",
    "                             min_samples_leaf=1, \n",
    "                             min_samples_split=2, \n",
    "                             impurity='gini')\n",
    "\n",
    "# Estimate grid of the classifier hyperparameters\n",
    "parameters = {'max_depth':[1, 3, 5, 7, 9], \n",
    "              'min_samples_leaf':[1, 5, 10]}\n",
    "\n",
    "# Define GridSearch parameters\n",
    "gs = GridSearchCV(clf,                 # Classifier object to optimize\n",
    "                  parameters,          # Grid of the hyperparameters\n",
    "                  scoring='accuracy',  # Claasification quality metric to optimize\n",
    "                  cv=3)                # Number of folds in KFolds cross-validation (CV)\n",
    "\n",
    "\n",
    "# Run Grid Search optimization\n",
    "gs.fit(X_train, y_train)"
   ]
  },
  {
   "cell_type": "code",
   "execution_count": 18,
   "metadata": {},
   "outputs": [
    {
     "data": {
      "text/plain": [
       "{'max_depth': 7, 'min_samples_leaf': 5}"
      ]
     },
     "execution_count": 18,
     "metadata": {},
     "output_type": "execute_result"
    }
   ],
   "source": [
    "# Get best hyperparameters of the classifier\n",
    "gs.best_params_"
   ]
  },
  {
   "cell_type": "code",
   "execution_count": 19,
   "metadata": {},
   "outputs": [
    {
     "data": {
      "text/plain": [
       "0.8220720720720721"
      ]
     },
     "execution_count": 19,
     "metadata": {},
     "output_type": "execute_result"
    }
   ],
   "source": [
    "# Get score (accuracy) of the best model on KFolds CV\n",
    "gs.best_score_"
   ]
  },
  {
   "cell_type": "code",
   "execution_count": 20,
   "metadata": {},
   "outputs": [
    {
     "name": "stdout",
     "output_type": "stream",
     "text": [
      "Test accuracy of DT classifier:  0.7842696629213484\n"
     ]
    }
   ],
   "source": [
    "# Get best model\n",
    "best_clf = gs.best_estimator_\n",
    "\n",
    "# Make predictions on our test sample\n",
    "y_test_predict = best_clf.predict(X_test)\n",
    "\n",
    "# Calculate accuracy for the test sample\n",
    "accuracy_test = accuracy_score(y_test, y_test_predict)\n",
    "\n",
    "print(\"Test accuracy of DT classifier: \", accuracy_test)"
   ]
  },
  {
   "cell_type": "code",
   "execution_count": 21,
   "metadata": {},
   "outputs": [
    {
     "data": {
      "text/html": [
       "<div>\n",
       "<style scoped>\n",
       "    .dataframe tbody tr th:only-of-type {\n",
       "        vertical-align: middle;\n",
       "    }\n",
       "\n",
       "    .dataframe tbody tr th {\n",
       "        vertical-align: top;\n",
       "    }\n",
       "\n",
       "    .dataframe thead th {\n",
       "        text-align: right;\n",
       "    }\n",
       "</style>\n",
       "<table border=\"1\" class=\"dataframe\">\n",
       "  <thead>\n",
       "    <tr style=\"text-align: right;\">\n",
       "      <th></th>\n",
       "      <th>mean_fit_time</th>\n",
       "      <th>std_fit_time</th>\n",
       "      <th>mean_score_time</th>\n",
       "      <th>std_score_time</th>\n",
       "      <th>param_max_depth</th>\n",
       "      <th>param_min_samples_leaf</th>\n",
       "      <th>params</th>\n",
       "      <th>split0_test_score</th>\n",
       "      <th>split1_test_score</th>\n",
       "      <th>split2_test_score</th>\n",
       "      <th>mean_test_score</th>\n",
       "      <th>std_test_score</th>\n",
       "      <th>rank_test_score</th>\n",
       "      <th>split0_train_score</th>\n",
       "      <th>split1_train_score</th>\n",
       "      <th>split2_train_score</th>\n",
       "      <th>mean_train_score</th>\n",
       "      <th>std_train_score</th>\n",
       "    </tr>\n",
       "  </thead>\n",
       "  <tbody>\n",
       "    <tr>\n",
       "      <th>10</th>\n",
       "      <td>0.458457</td>\n",
       "      <td>0.062673</td>\n",
       "      <td>0.000655</td>\n",
       "      <td>0.000168</td>\n",
       "      <td>7</td>\n",
       "      <td>5</td>\n",
       "      <td>{'max_depth': 7, 'min_samples_leaf': 5}</td>\n",
       "      <td>0.844595</td>\n",
       "      <td>0.783784</td>\n",
       "      <td>0.837838</td>\n",
       "      <td>0.822072</td>\n",
       "      <td>0.027214</td>\n",
       "      <td>1</td>\n",
       "      <td>0.854730</td>\n",
       "      <td>0.875000</td>\n",
       "      <td>0.858108</td>\n",
       "      <td>0.862613</td>\n",
       "      <td>0.008867</td>\n",
       "    </tr>\n",
       "    <tr>\n",
       "      <th>13</th>\n",
       "      <td>0.462067</td>\n",
       "      <td>0.062157</td>\n",
       "      <td>0.000579</td>\n",
       "      <td>0.000079</td>\n",
       "      <td>9</td>\n",
       "      <td>5</td>\n",
       "      <td>{'max_depth': 9, 'min_samples_leaf': 5}</td>\n",
       "      <td>0.844595</td>\n",
       "      <td>0.783784</td>\n",
       "      <td>0.837838</td>\n",
       "      <td>0.822072</td>\n",
       "      <td>0.027214</td>\n",
       "      <td>1</td>\n",
       "      <td>0.854730</td>\n",
       "      <td>0.875000</td>\n",
       "      <td>0.858108</td>\n",
       "      <td>0.862613</td>\n",
       "      <td>0.008867</td>\n",
       "    </tr>\n",
       "    <tr>\n",
       "      <th>8</th>\n",
       "      <td>0.401220</td>\n",
       "      <td>0.033970</td>\n",
       "      <td>0.000501</td>\n",
       "      <td>0.000034</td>\n",
       "      <td>5</td>\n",
       "      <td>10</td>\n",
       "      <td>{'max_depth': 5, 'min_samples_leaf': 10}</td>\n",
       "      <td>0.797297</td>\n",
       "      <td>0.777027</td>\n",
       "      <td>0.831081</td>\n",
       "      <td>0.801802</td>\n",
       "      <td>0.022296</td>\n",
       "      <td>3</td>\n",
       "      <td>0.804054</td>\n",
       "      <td>0.861486</td>\n",
       "      <td>0.831081</td>\n",
       "      <td>0.832207</td>\n",
       "      <td>0.023460</td>\n",
       "    </tr>\n",
       "    <tr>\n",
       "      <th>9</th>\n",
       "      <td>0.562772</td>\n",
       "      <td>0.012769</td>\n",
       "      <td>0.000936</td>\n",
       "      <td>0.000218</td>\n",
       "      <td>7</td>\n",
       "      <td>1</td>\n",
       "      <td>{'max_depth': 7, 'min_samples_leaf': 1}</td>\n",
       "      <td>0.810811</td>\n",
       "      <td>0.790541</td>\n",
       "      <td>0.804054</td>\n",
       "      <td>0.801802</td>\n",
       "      <td>0.008427</td>\n",
       "      <td>3</td>\n",
       "      <td>0.905405</td>\n",
       "      <td>0.945946</td>\n",
       "      <td>0.908784</td>\n",
       "      <td>0.920045</td>\n",
       "      <td>0.018367</td>\n",
       "    </tr>\n",
       "    <tr>\n",
       "      <th>11</th>\n",
       "      <td>0.422490</td>\n",
       "      <td>0.045955</td>\n",
       "      <td>0.000508</td>\n",
       "      <td>0.000034</td>\n",
       "      <td>7</td>\n",
       "      <td>10</td>\n",
       "      <td>{'max_depth': 7, 'min_samples_leaf': 10}</td>\n",
       "      <td>0.797297</td>\n",
       "      <td>0.777027</td>\n",
       "      <td>0.831081</td>\n",
       "      <td>0.801802</td>\n",
       "      <td>0.022296</td>\n",
       "      <td>3</td>\n",
       "      <td>0.804054</td>\n",
       "      <td>0.861486</td>\n",
       "      <td>0.831081</td>\n",
       "      <td>0.832207</td>\n",
       "      <td>0.023460</td>\n",
       "    </tr>\n",
       "  </tbody>\n",
       "</table>\n",
       "</div>"
      ],
      "text/plain": [
       "    mean_fit_time  std_fit_time  mean_score_time  std_score_time  \\\n",
       "10       0.458457      0.062673         0.000655        0.000168   \n",
       "13       0.462067      0.062157         0.000579        0.000079   \n",
       "8        0.401220      0.033970         0.000501        0.000034   \n",
       "9        0.562772      0.012769         0.000936        0.000218   \n",
       "11       0.422490      0.045955         0.000508        0.000034   \n",
       "\n",
       "   param_max_depth param_min_samples_leaf  \\\n",
       "10               7                      5   \n",
       "13               9                      5   \n",
       "8                5                     10   \n",
       "9                7                      1   \n",
       "11               7                     10   \n",
       "\n",
       "                                      params  split0_test_score  \\\n",
       "10   {'max_depth': 7, 'min_samples_leaf': 5}           0.844595   \n",
       "13   {'max_depth': 9, 'min_samples_leaf': 5}           0.844595   \n",
       "8   {'max_depth': 5, 'min_samples_leaf': 10}           0.797297   \n",
       "9    {'max_depth': 7, 'min_samples_leaf': 1}           0.810811   \n",
       "11  {'max_depth': 7, 'min_samples_leaf': 10}           0.797297   \n",
       "\n",
       "    split1_test_score  split2_test_score  mean_test_score  std_test_score  \\\n",
       "10           0.783784           0.837838         0.822072        0.027214   \n",
       "13           0.783784           0.837838         0.822072        0.027214   \n",
       "8            0.777027           0.831081         0.801802        0.022296   \n",
       "9            0.790541           0.804054         0.801802        0.008427   \n",
       "11           0.777027           0.831081         0.801802        0.022296   \n",
       "\n",
       "    rank_test_score  split0_train_score  split1_train_score  \\\n",
       "10                1            0.854730            0.875000   \n",
       "13                1            0.854730            0.875000   \n",
       "8                 3            0.804054            0.861486   \n",
       "9                 3            0.905405            0.945946   \n",
       "11                3            0.804054            0.861486   \n",
       "\n",
       "    split2_train_score  mean_train_score  std_train_score  \n",
       "10            0.858108          0.862613         0.008867  \n",
       "13            0.858108          0.862613         0.008867  \n",
       "8             0.831081          0.832207         0.023460  \n",
       "9             0.908784          0.920045         0.018367  \n",
       "11            0.831081          0.832207         0.023460  "
      ]
     },
     "execution_count": 21,
     "metadata": {},
     "output_type": "execute_result"
    }
   ],
   "source": [
    "# Get full report of the optimization and convert it into pandas.DataFrame\n",
    "report = pd.DataFrame(data=gs.cv_results_)\n",
    "\n",
    "# Sort it by mean_test_score column\n",
    "report.sort_values(by='mean_test_score', ascending=False, inplace=True)\n",
    "\n",
    "# Show the first 5 rows\n",
    "report.head()"
   ]
  },
  {
   "cell_type": "markdown",
   "metadata": {},
   "source": [
    "---"
   ]
  },
  {
   "cell_type": "markdown",
   "metadata": {},
   "source": [
    "## Tasks:\n",
    "\n",
    "* Implement **Target Encoding** insted of **OneHotEncoder**. Target Encoding is the process of replacing a categorical value with the mean of the target variable. Does it have any differences for the classification?\n",
    "* How can you modify best split a decision tree node? Is it possible to make it faster? How?\n",
    "\n",
    "## Questions:\n",
    "\n",
    "* Is input features scaling important for Decision Tree Classifier?\n",
    "* Have non-informative (random) features influence on Decision Tree Classifier?"
   ]
  },
  {
   "cell_type": "markdown",
   "metadata": {},
   "source": [
    "# Decision tree computational complexity"
   ]
  },
  {
   "cell_type": "markdown",
   "metadata": {},
   "source": [
    "Let 𝑁 = number of training examples, 𝑘 = number of features, and 𝑑 = depth of the decision tree.\n",
    "\n",
    "Current best_split time is O(N * N * k). This is very uneficient.\n",
    "We can do better if we sort train examples along each feature. Then we can make split in O(N k). We do split for every level (d - times).\n",
    "So the time complexity for decision trees is in 𝑂(𝑁𝑘𝑑).\n",
    "The uncertainty here is due to the non-deterministic way in which decision trees are built, always splitting data based on locally optimal thresholds with close to no consideration for overall balance. Keep in mind building a globally optimal decision tree is an NP-hard problem."
   ]
  },
  {
   "cell_type": "markdown",
   "metadata": {},
   "source": [
    "---\n",
    "---"
   ]
  },
  {
   "cell_type": "markdown",
   "metadata": {},
   "source": [
    "# Additional Topics"
   ]
  },
  {
   "cell_type": "markdown",
   "metadata": {},
   "source": [
    "## Underfitting and Overfitting\n",
    "\n",
    "<img src=\"img/overfit.jpg\" width=\"600\">\n",
    "\n",
    "Let's consider how the classifier quality depends on **max_depth** value of the classifier. <br/> \n",
    "For that, for each **max_depth** value from a range we train the DT classifier and make predictions for the train and test samples. <br/>\n",
    "Then, we calculate quality metrics for the samples."
   ]
  },
  {
   "cell_type": "code",
   "execution_count": 22,
   "metadata": {},
   "outputs": [],
   "source": [
    "depths = np.arange(1,20, 1) # create list of k_neighbors values\n",
    "\n",
    "# Lists for quality metrics\n",
    "scores_test = []\n",
    "scores_train = []\n",
    "\n",
    "# For each k_neighbors value ...\n",
    "for max_depth in depths:\n",
    "    \n",
    "    # Create a DT classifier object\n",
    "    clf = DecisionTreeClassifier(max_depth=max_depth, \n",
    "                                 min_samples_leaf=1, \n",
    "                                 min_samples_split=2, \n",
    "                                 impurity='gini')\n",
    "    \n",
    "    # Train the classifier (remember, that KNN has no training procedure, but it is a tradition :)\n",
    "    clf.fit(X_train, y_train)\n",
    "\n",
    "    # Use the classifier to predict labels\n",
    "    y_test_predict = clf.predict(X_test)    # predict for the test smaple\n",
    "    y_train_predict = clf.predict(X_train)  # predict for the train smaple\n",
    "    \n",
    "    # Calculate accuracy for the test and train samples\n",
    "    accuracy_test = accuracy_score(y_test, y_test_predict)    # for the test smaple\n",
    "    accuracy_train = accuracy_score(y_train, y_train_predict) # for the train smaple \n",
    "    \n",
    "    # Collect scores\n",
    "    scores_test.append(accuracy_test)\n",
    "    scores_train.append(accuracy_train)"
   ]
  },
  {
   "cell_type": "code",
   "execution_count": 23,
   "metadata": {},
   "outputs": [
    {
     "data": {
      "image/png": "[encoded data removed]",
      "text/plain": [
       "<Figure size 648x432 with 1 Axes>"
      ]
     },
     "metadata": {
      "needs_background": "light"
     },
     "output_type": "display_data"
    }
   ],
   "source": [
    "# Create an figure with a custom size\n",
    "plt.figure(figsize=(9, 6))\n",
    "\n",
    "# Create the plots\n",
    "plt.plot(depths, scores_test, color='r', linewidth=3, label='Test sample')\n",
    "plt.plot(depths, scores_train, color='b', linewidth=3, label='Train sample')\n",
    "\n",
    "plt.xlabel('Max_depth') # set up X-axis label\n",
    "plt.ylabel('Accuracy')    # set up Y-axis label\n",
    "\n",
    "plt.legend(loc='best') # create the plot legend and set up it position\n",
    "plt.grid(b=1) # create grid on the plot\n",
    "\n",
    "plt.show() # display the plot"
   ]
  },
  {
   "cell_type": "markdown",
   "metadata": {},
   "source": [
    "## Plot Decision Surface\n",
    "\n",
    "Let's prepare two circles data sample to consider decision surface of the Decision Tree classifier."
   ]
  },
  {
   "cell_type": "code",
   "execution_count": 24,
   "metadata": {},
   "outputs": [],
   "source": [
    "from sklearn.datasets import make_moons, make_circles # import function from the library\n",
    "\n",
    "N = 1000\n",
    "\n",
    "#X, y = make_moons(n_samples=N, noise=0.2, random_state=11) # generate data sample\n",
    "X, y = make_circles(n_samples=N, noise=0.1, factor=0.6, random_state=1)"
   ]
  },
  {
   "cell_type": "code",
   "execution_count": 25,
   "metadata": {},
   "outputs": [],
   "source": [
    "# import train_test_split function to split the sample\n",
    "from sklearn.model_selection import train_test_split\n",
    "\n",
    "X_train, X_test, y_train, y_test = train_test_split(X, y, \n",
    "                                                    test_size=0.5,    # 20% for test, 80% for train\n",
    "                                                    random_state=123) # shuffle objects before split"
   ]
  },
  {
   "cell_type": "code",
   "execution_count": 26,
   "metadata": {},
   "outputs": [
    {
     "data": {
      "image/png": "[encoded data removed]",
      "text/plain": [
       "<Figure size 648x432 with 1 Axes>"
      ]
     },
     "metadata": {
      "needs_background": "light"
     },
     "output_type": "display_data"
    }
   ],
   "source": [
    "# Create an figure with a custom size\n",
    "plt.figure(figsize=(9, 6))\n",
    "\n",
    "# Plot all objects with y == 0 (class 0)\n",
    "plt.scatter(X[y == 0, 0],     # selects all objects with y == 0 and the 1st column of X\n",
    "            X[y == 0, 1],     # selects all objects with y == 0 and the 2nd column of X\n",
    "            color='r',        # points color\n",
    "            label='0')        # label for the plot legend\n",
    "\n",
    "\n",
    "# Plot all objects with y == 1 (class 1)\n",
    "plt.scatter(X[y == 1, 0],     # selects all objects with y == 1 and the 1st column of X\n",
    "            X[y == 1, 1],     # selects all objects with y == 1 and the 2nd column of X\n",
    "            color='b',        # points color\n",
    "            label='1')        # label for the plot legend\n",
    "\n",
    "plt.xlabel('X1') # set up X-axis label\n",
    "plt.ylabel('X2') # set up Y-axis label\n",
    "\n",
    "plt.legend(loc='best') # create the plot legend and set up it position\n",
    "plt.grid(b=1) # create grid on the plot\n",
    "\n",
    "plt.show() # display the plot"
   ]
  },
  {
   "cell_type": "code",
   "execution_count": 27,
   "metadata": {},
   "outputs": [
    {
     "name": "stdout",
     "output_type": "stream",
     "text": [
      "CPU times: user 3 µs, sys: 0 ns, total: 3 µs\n",
      "Wall time: 8.11 µs\n"
     ]
    }
   ],
   "source": [
    "%time\n",
    "clf = DecisionTreeClassifier(max_depth=20, min_samples_leaf=1, min_samples_split=2, impurity='gini')\n",
    "clf.fit(X_train, y_train)\n",
    "y_test_predict = clf.predict(X_test)"
   ]
  },
  {
   "cell_type": "code",
   "execution_count": 28,
   "metadata": {},
   "outputs": [
    {
     "name": "stdout",
     "output_type": "stream",
     "text": [
      "Test accuracy of DT classifier:  0.916\n"
     ]
    }
   ],
   "source": [
    "# Import accuracy_score function\n",
    "from sklearn.metrics import accuracy_score\n",
    "\n",
    "# Calculate accuracy for the test sample\n",
    "accuracy_test = accuracy_score(y_test, y_test_predict)\n",
    "\n",
    "print(\"Test accuracy of DT classifier: \", accuracy_test)"
   ]
  },
  {
   "cell_type": "code",
   "execution_count": 29,
   "metadata": {},
   "outputs": [
    {
     "data": {
      "image/png": "[encoded data removed]",
      "text/plain": [
       "<Figure size 648x432 with 2 Axes>"
      ]
     },
     "metadata": {
      "needs_background": "light"
     },
     "output_type": "display_data"
    }
   ],
   "source": [
    "# Create an figure with a custom size\n",
    "plt.figure(figsize=(9, 6))\n",
    "\n",
    "# Plot all objects with y == 0 (class 0)\n",
    "plt.scatter(X_test[y_test == 0, 0],     # selects all objects with y == 0 and the 1st column of X\n",
    "            X_test[y_test == 0, 1],     # selects all objects with y == 0 and the 2nd column of X\n",
    "            color='r',                  # points color\n",
    "            label='0')                  # label for the plot legend\n",
    "\n",
    "\n",
    "# Plot all objects with y == 1 (class 1)\n",
    "plt.scatter(X_test[y_test == 1, 0],     # selects all objects with y == 1 and the 1st column of X\n",
    "            X_test[y_test == 1, 1],     # selects all objects with y == 1 and the 2nd column of X\n",
    "            color='b',                  # points color\n",
    "            label='1')                  # label for the plot legend\n",
    "\n",
    "\n",
    "### THIS IS JUST MAGIC :)\n",
    "\n",
    "# plot decision boundary\n",
    "h=0.01\n",
    "x_min, x_max = X[:, 0].min() - .5, X[:, 0].max() + .5\n",
    "y_min, y_max = X[:, 1].min() - .5, X[:, 1].max() + .5\n",
    "xx, yy = np.meshgrid(np.arange(x_min, x_max, h),\n",
    "                     np.arange(y_min, y_max, h))\n",
    "\n",
    "Z = clf.predict(np.c_[xx.ravel(), yy.ravel()])\n",
    "#Z = clf.predict_proba(np.c_[xx.ravel(), yy.ravel()])[:, 1] # Probas\n",
    "\n",
    "Z = Z.reshape(xx.shape)\n",
    "\n",
    "plt.contourf(xx, yy, Z, cmap=plt.cm.RdBu, alpha=.5, levels=1)\n",
    "\n",
    "### THE END OF THE MAGIC\n",
    "\n",
    "\n",
    "plt.xlabel('X1') # set up X-axis label\n",
    "plt.ylabel('X2') # set up Y-axis label\n",
    "\n",
    "plt.legend(loc='best') # create the plot legend and set up it position\n",
    "plt.grid(b=1) # create grid on the plot\n",
    "plt.colorbar()\n",
    "\n",
    "plt.show() # display the plot"
   ]
  },
  {
   "cell_type": "markdown",
   "metadata": {},
   "source": [
    "## Features Engineering\n",
    "\n",
    "How you saw form the previous example, decision trees hardly reconstruct dependencies between input features such as:\n",
    "* $X_{1} \\pm X_{2}$\n",
    "* $X_{1}X_{2}$\n",
    "* $X_{1} / X_{2}$\n",
    "* $X_{1}^{2} \\pm X_{2}^{2}$\n",
    "* ...\n",
    "\n",
    "Including these new features into the sample can improve calssification quality, especially for Decision Tree Classifier."
   ]
  },
  {
   "cell_type": "code",
   "execution_count": 30,
   "metadata": {},
   "outputs": [],
   "source": [
    "# Add square sum of X1 and X2 to train sample\n",
    "X_train2 = np.c_[X_train, \n",
    "                 X_train[:, 0]**2 + X_train[:, 1]**2] # Add square sum\n",
    "\n",
    "# Add square sum of X1 and X2 to test sample\n",
    "X_test2 = np.c_[X_test, \n",
    "                X_test[:, 0]**2 + X_test[:, 1]**2] # Add square sum"
   ]
  },
  {
   "cell_type": "code",
   "execution_count": 31,
   "metadata": {},
   "outputs": [
    {
     "name": "stdout",
     "output_type": "stream",
     "text": [
      "CPU times: user 3 µs, sys: 1e+03 ns, total: 4 µs\n",
      "Wall time: 6.2 µs\n"
     ]
    }
   ],
   "source": [
    "%time\n",
    "\n",
    "# Fit DT classifier on the new sample\n",
    "clf = DecisionTreeClassifier(max_depth=10, min_samples_leaf=1, min_samples_split=2, impurity='gini')\n",
    "clf.fit(X_train2, y_train)\n",
    "\n",
    "# Make prediction on the new sample\n",
    "y_test_predict = clf.predict(X_test2)"
   ]
  },
  {
   "cell_type": "code",
   "execution_count": 32,
   "metadata": {},
   "outputs": [
    {
     "name": "stdout",
     "output_type": "stream",
     "text": [
      "Test accuracy of DT classifier:  0.972\n"
     ]
    }
   ],
   "source": [
    "# Import accuracy_score function\n",
    "from sklearn.metrics import accuracy_score\n",
    "\n",
    "# Calculate accuracy for the test sample\n",
    "accuracy_test = accuracy_score(y_test, y_test_predict)\n",
    "\n",
    "print(\"Test accuracy of DT classifier: \", accuracy_test)"
   ]
  },
  {
   "cell_type": "markdown",
   "metadata": {},
   "source": [
    "### Question:\n",
    "\n",
    "Is it better now?"
   ]
  },
  {
   "cell_type": "markdown",
   "metadata": {},
   "source": [
    "# Reduced Error Pruning\n",
    "\n",
    "\"Pruning is a technique in machine learning that reduces the size of decision trees by removing sections of the tree that provide little power to classify instances. Pruning reduces the complexity of the final classifier, and hence improves predictive accuracy by the reduction of overfitting.\" [wiki](https://en.wikipedia.org/wiki/Decision_tree_pruning)\n",
    "\n",
    "Reduced Error Pruning procedure:\n",
    "\n",
    "* Starting form the bottom of a decision tree, remove each subtree. \n",
    "* Estimate classification accuracy on a test sample.\n",
    "* If the test accuracy is better, keep the changes.\n",
    "* Go to other node of the tree, repeat previous steps.\n",
    "\n",
    "Example:\n",
    "\n",
    "<table><tr>\n",
    "<td> <img src=\"img/pr1.png\" heigh=\"200\"> </td>\n",
    "<td> <img src=\"img/pr2.png\" heigh=\"200\"> </td>\n",
    "<td> <img src=\"img/pr3.png\" heigh=\"200\"> </td>\n",
    "</tr></table>"
   ]
  }
 ],
 "metadata": {
  "kernelspec": {
   "display_name": "Python 3",
   "language": "python",
   "name": "python3"
  },
  "language_info": {
   "codemirror_mode": {
    "name": "ipython",
    "version": 3
   },
   "file_extension": ".py",
   "mimetype": "text/x-python",
   "name": "python",
   "nbconvert_exporter": "python",
   "pygments_lexer": "ipython3",
   "version": "3.6.10"
  }
 },
 "nbformat": 4,
 "nbformat_minor": 2
}
